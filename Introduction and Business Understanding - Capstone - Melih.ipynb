{
 "cells": [
  {
   "cell_type": "markdown",
   "metadata": {},
   "source": [
    "## Introduction"
   ]
  },
  {
   "cell_type": "markdown",
   "metadata": {},
   "source": [
    "* The problem will be about 23 wards of City Tokyo\n",
    "* In the case study the municipality of Tokyo will try to classify the wards as a 3 groups and the main topics in order to determine it will be based on 4 categories\n",
    "* These are Shopping, Foods, Entertainment, Sightseeing and Accommodation"
   ]
  },
  {
   "cell_type": "markdown",
   "metadata": {},
   "source": [
    "* Name of the wards are listed as it is follwed:\n",
    "'Chiyoda',\n",
    "'Chūō',\n",
    "'Minato',\n",
    "'Shinjuku',\n",
    "'Bunkyō',\n",
    "'Taitō',\n",
    "'Sumida',\n",
    "'Kōtō',\n",
    "'Shinagawa',\n",
    "'Meguro',\n",
    "'Ōta',\n",
    "'Setagaya',\n",
    "'Shibuya',\n",
    "'Nakano',\n",
    "'Suginami',\n",
    "'Toshima',\n",
    "'Kita',\n",
    "'Arakawa',\n",
    "'Itabashi',\n",
    "'Nerima',\n",
    "'Adachi',\n",
    "'Katsushika',\n",
    "'Edogawa'"
   ]
  },
  {
   "cell_type": "markdown",
   "metadata": {},
   "source": [
    "## Business Understanding"
   ]
  },
  {
   "cell_type": "markdown",
   "metadata": {},
   "source": [
    "* The problem that we are trying to solve is about how to determine the wards and when making investments for further developments is will be useful to know the characteristics of the wards."
   ]
  },
  {
   "cell_type": "markdown",
   "metadata": {},
   "source": [
    "* The goal is classifying the wards and clustre groups as 3 chosen randomly and it may be adjusted easily depending the decisions if it is used in real case scenarios. The solution will help the people to develop the areas based on their specific features and maybe connect them accordingly or expand the zone that does not offer the services wihc is offered by specific zone adjusted to other wards."
   ]
  },
  {
   "cell_type": "markdown",
   "metadata": {},
   "source": [
    "* Determining the areas based on their famous features will also help the tourism agencies to make better plans and routes for the tourists to go around the city and have fun and also this will increase the tourism income of the municipality"
   ]
  },
  {
   "cell_type": "markdown",
   "metadata": {},
   "source": [
    "* As analytic approach it is determined to use clustering approach has been chosen. This will be used to come up with a model showing which wards has relationships with each other based on the four categories listed above."
   ]
  }
 ],
 "metadata": {
  "kernelspec": {
   "display_name": "Python 3",
   "language": "python",
   "name": "python3"
  },
  "language_info": {
   "codemirror_mode": {
    "name": "ipython",
    "version": 3
   },
   "file_extension": ".py",
   "mimetype": "text/x-python",
   "name": "python",
   "nbconvert_exporter": "python",
   "pygments_lexer": "ipython3",
   "version": "3.7.6"
  }
 },
 "nbformat": 4,
 "nbformat_minor": 4
}
